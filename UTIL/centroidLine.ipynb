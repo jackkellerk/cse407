{
 "cells": [
  {
   "cell_type": "code",
   "execution_count": null,
   "metadata": {},
   "outputs": [],
   "source": [
    "from mpl_toolkits.mplot3d import Axes3D\n",
    "import matplotlib.pyplot as plt\n",
    "import numpy as np\n",
    "\n",
    "\n",
    "\n",
    "\n",
    "\n",
    "#extracting all the points of the channel mouth\n",
    "#calculating the centroid of each four points\n",
    "\n",
    "filename_1 = \"7DTC_transformed.pdb\"\n",
    "filename_2 = \"7WF3_transformed.pdb\"\n",
    "\n",
    "with open(filename_1) as pdb_structure:\n",
    "    lines = pdb_structure.readlines()\n",
    "\n",
    "first_segment = list()\n",
    "second_segment = list()\n",
    "third_segment = list()\n",
    "fourth_segment = list()\n",
    "\n",
    "for line in lines:\n",
    "    if len(line.split()) > 5:\n",
    "        residue_num = int(line.split()[5])\n",
    "    else:\n",
    "        break\n",
    "    if 381 <= residue_num <= 426 and ('CA' in line):\n",
    "        x = float(line.split()[6])\n",
    "        y = float(line.split()[7])\n",
    "        z = float(line.split()[8])\n",
    "        data = (x,y,z)\n",
    "        first_segment.append(data)\n",
    "\n",
    "    if 896 <= residue_num <= 941 and ('CA' in line):\n",
    "        x = float(line.split()[6])\n",
    "        y = float(line.split()[7])\n",
    "        z = float(line.split()[8])\n",
    "        data = (x,y,z)\n",
    "        second_segment.append(data)\n",
    "\n",
    "    if 1436 <= residue_num <= 1480 and ('CA' in line):\n",
    "        x = float(line.split()[6])\n",
    "        y = float(line.split()[7])\n",
    "        z = float(line.split()[8])\n",
    "        data = (x,y,z)\n",
    "        third_segment.append(data)\n",
    "\n",
    "    if 1731 <= residue_num <= 1776 and ('CA' in line):\n",
    "        x = float(line.split()[6])\n",
    "        y = float(line.split()[7])\n",
    "        z = float(line.split()[8])\n",
    "        data = (x,y,z)\n",
    "        fourth_segment.append(data)\n",
    "\n",
    "print(first_segment)"
   ]
  },
  {
   "cell_type": "code",
   "execution_count": null,
   "metadata": {},
   "outputs": [],
   "source": [
    "\n",
    "centroids = []\n",
    "x_values = []\n",
    "y_values = []\n",
    "z_values = []\n",
    "for a, b, c,d in zip (first_segment, second_segment, third_segment, fourth_segment):\n",
    "    x_centroid = (a[0] + b[0] + c[0] + d[0])/4\n",
    "    y_centroid = (a[1] + b[1] + c[1] + d[1])/4\n",
    "    z_centroid = (a[2] + b[2] + c[2] + d[2])/4\n",
    "    x_values.append(x_centroid)\n",
    "    y_values.append(y_centroid)\n",
    "    z_values.append(z_centroid)\n",
    "    data = (x_centroid, y_centroid, z_centroid)\n",
    "    centroids.append(data)\n",
    "\n",
    "\n",
    "print(centroids)"
   ]
  },
  {
   "cell_type": "code",
   "execution_count": null,
   "metadata": {},
   "outputs": [],
   "source": [
    "\n",
    "\n",
    "fig = plt.figure(figsize=(10,8))\n",
    "\n",
    "ax = fig.add_subplot(111, projection='3d')\n",
    "ax.scatter(x_values, y_values, z_values, c = 'r', marker='o')\n",
    "plt.show()\n"
   ]
  }
 ],
 "metadata": {
  "interpreter": {
   "hash": "aee8b7b246df8f9039afb4144a1f6fd8d2ca17a180786b69acc140d282b71a49"
  },
  "kernelspec": {
   "display_name": "Python 3.7.7 64-bit",
   "language": "python",
   "name": "python3"
  },
  "language_info": {
   "codemirror_mode": {
    "name": "ipython",
    "version": 3
   },
   "file_extension": ".py",
   "mimetype": "text/x-python",
   "name": "python",
   "nbconvert_exporter": "python",
   "pygments_lexer": "ipython3",
   "version": "3.7.7"
  },
  "orig_nbformat": 4
 },
 "nbformat": 4,
 "nbformat_minor": 2
}

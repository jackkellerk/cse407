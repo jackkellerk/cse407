{
 "cells": [
  {
   "cell_type": "code",
   "execution_count": 26,
   "metadata": {},
   "outputs": [
    {
     "name": "stdout",
     "output_type": "stream",
     "text": [
      "['.DS_Store', 'requirements.txt', 'UTIL', 'CONFIG', 'README.md', '.gitignore', '.git', 'DATA']\n"
     ]
    }
   ],
   "source": [
    "import os\n",
    "\n",
    "print(os.listdir('..'))"
   ]
  },
  {
   "cell_type": "code",
   "execution_count": 27,
   "metadata": {},
   "outputs": [
    {
     "name": "stdout",
     "output_type": "stream",
     "text": [
      "['A']\n",
      "{'A': 'VVRRGAIKVLIHALFSMFIMITILTNCVFMTMSDPPPWSKNVEYTFTGIYTFESLIKILARGFCVDDFTFLRDPWNWLDFSVIMMAYLTEFVDLGNISALRTFRVLRALKTITVIPGLKTIVGALIQSVKKLSDVMILTVFCLSVFALVGLQLFMGNLRQKCVRWPPPFDWDAYISDEGNFYFLEGSNDALLCGNSSDAGHCPEGYECIKTGRNPNYGYTSYDTFSWAFLALFRLMTQDYWENLFQLTLRAAGKTYMIFFVVIIFLGSFYLINLILAVVAMAYAEQNEATLAEDKENCCAPWLKFKNIIHLIVMDPFVDLGITICIVLNTLFMAMEHYPMTEHFDNVLTVGNLVFTGIFTAEMVLKLIAMDPYEYFQQGWNIFDSIIVTLSLVELGLANVQGLSVLRSFRLLRVFKLAKSWPTLNMLIKIIGNSVGALGNLTLVLAIIVFIFAVVGMQLFGKSYKECVCKIALDCNLPRWHMHDFFHSFLIVFRILCGEWIETMWDCMEVAGQAMCLTVFLMVMVIGNLVVLNLFLALLLSSFSGKKWWTLRRACFKIVEHNWFETFIVFMILLSSGALAFEDIYIEQRRVIRTILEYADKVFTYIFIMEMLLKWVAYGFKVYFTNAWCWLDFLIVDVSIISLVANWLGYSELGPIKSLRTLRALRPLRALSRFEGMRVVVNALLGAIPSIMNVLLVCLIFWLIFSIMGVNLFAGKFYYCINTTTSERFDISEVNNKSECESLMHTGQVRWLNVKVNYDNVGLGYLSLLQVATFKGWMDIMYAAVDSREKEEQPQYEVNLYMYLYFVIFIIFGSFFTLNLFIGVIIDNFNQQKKKLGGKDIFMTEEQKKYYNAMKKLGSKKPQKPIPRPQNKIQGMVYDLVTKQAFDITIMILICLNMVTMMVETDNQSQLKVDILYNINMIFIIIFTGECVLKMLALRQYYFTVGWNIFDFVVVILSIVGLALSDLIQKYFVSPTLFRVIRLARIGRVLRLIRGAKGIRTLLFALMMSLPALFNIGLLLFLVMFIYSIFGMSNFAYVKKESGIDDMFNFETFGNSIICLFEITTSAGWDGLLNPILNSGPPDCDPNLENPGTSVKGDCGNPSIGICFFCSYIIISFLIVVNMYIAIILENFNVATEE'}\n"
     ]
    }
   ],
   "source": [
    "from Bio.PDB import PDBParser\n",
    "from Bio.SeqUtils import seq1\n",
    "\n",
    "pdbparser = PDBParser()\n",
    "\n",
    "structure = pdbparser.get_structure(\"6AGF\", \"../DATA/SUBUNITS/SCN/6AGF.pdb\")\n",
    "chains = {chain.id:seq1(''.join(residue.resname for residue in chain)) for chain in structure.get_chains()}\n",
    "\n",
    "print(list(chains.keys()))\n",
    "print(chains)\n",
    "\n"
   ]
  },
  {
   "cell_type": "markdown",
   "metadata": {},
   "source": []
  },
  {
   "cell_type": "code",
   "execution_count": 28,
   "metadata": {},
   "outputs": [
    {
     "name": "stdout",
     "output_type": "stream",
     "text": [
      "1138\n"
     ]
    }
   ],
   "source": [
    "s = chains['A']\n",
    "print(len(s))\n",
    "\n"
   ]
  },
  {
   "cell_type": "code",
   "execution_count": 29,
   "metadata": {},
   "outputs": [],
   "source": [
    "# returns dict of locations of repeated sequences of a certain length\n",
    "# {'sequence':[loc1, loc2, ...]}\n",
    "# Mark\n",
    "def findRepeatedSequences(s, length):\n",
    "    sdict=dict()\n",
    "    tried=list()\n",
    "    for i in range(0, len(s) - length):\n",
    "        sub = s[i:i+length]\n",
    "        if not sub in tried:\n",
    "            locs = list()\n",
    "            locs.append(i)\n",
    "            j = i+1\n",
    "            while j <= (len(s) - length):\n",
    "                loc = s.find(sub, j, len(s)-1)\n",
    "                if loc > 0:\n",
    "                    locs.append(loc)\n",
    "                    j = loc\n",
    "                j+=1\n",
    "            if len(locs) > 3:\n",
    "                sdict[sub] = locs\n",
    "        tried.append(sub)\n",
    "    return sdict"
   ]
  },
  {
   "cell_type": "code",
   "execution_count": 30,
   "metadata": {},
   "outputs": [
    {
     "name": "stdout",
     "output_type": "stream",
     "text": [
      "{'LRA': [105, 248, 661, 667], 'GNL': [155, 350, 438, 526], 'LAL': [229, 535, 935, 961], 'NLF': [242, 532, 710, 818], 'LIV': [310, 489, 633, 1117]}\n"
     ]
    }
   ],
   "source": [
    "ret = findRepeatedSequences(chains['A'], 3)\n",
    "print(ret)\n"
   ]
  }
 ],
 "metadata": {
  "interpreter": {
   "hash": "0fa9db080077dd35af4631d5157907fa8ff20467df0ca157587c776bc2fee62f"
  },
  "kernelspec": {
   "display_name": "Python 3.10.4 64-bit",
   "language": "python",
   "name": "python3"
  },
  "language_info": {
   "codemirror_mode": {
    "name": "ipython",
    "version": 3
   },
   "file_extension": ".py",
   "mimetype": "text/x-python",
   "name": "python",
   "nbconvert_exporter": "python",
   "pygments_lexer": "ipython3",
   "version": "3.7.7"
  },
  "orig_nbformat": 4
 },
 "nbformat": 4,
 "nbformat_minor": 2
}
